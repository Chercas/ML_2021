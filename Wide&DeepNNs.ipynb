{
  "nbformat": 4,
  "nbformat_minor": 0,
  "metadata": {
    "colab": {
      "name": "Wide&DeepNNs.ipynb",
      "provenance": [],
      "authorship_tag": "ABX9TyN71krDodLDIgZRjhgl4okt",
      "include_colab_link": true
    },
    "kernelspec": {
      "name": "python3",
      "display_name": "Python 3"
    }
  },
  "cells": [
    {
      "cell_type": "markdown",
      "metadata": {
        "id": "view-in-github",
        "colab_type": "text"
      },
      "source": [
        "<a href=\"https://colab.research.google.com/github/Chercas/ML_2021/blob/main/Wide%26DeepNNs.ipynb\" target=\"_parent\"><img src=\"https://colab.research.google.com/assets/colab-badge.svg\" alt=\"Open In Colab\"/></a>"
      ]
    },
    {
      "cell_type": "code",
      "metadata": {
        "id": "3NX_2i1-8Fas"
      },
      "source": [
        "from sklearn.datasets import fetch_california_housing\n",
        "from sklearn.model_selection import train_test_split\n",
        "from sklearn.preprocessing import StandardScaler"
      ],
      "execution_count": 1,
      "outputs": []
    },
    {
      "cell_type": "code",
      "metadata": {
        "id": "iAmbrCqQGp43"
      },
      "source": [
        "# TensorFlow and tf.keras\n",
        "import tensorflow as tf\n",
        "from tensorflow import keras\n",
        "# Helper libraries\n",
        "import numpy as np\n",
        "import matplotlib.pyplot as plt"
      ],
      "execution_count": 2,
      "outputs": []
    },
    {
      "cell_type": "code",
      "metadata": {
        "colab": {
          "base_uri": "https://localhost:8080/"
        },
        "id": "udfuM5tj8L9e",
        "outputId": "2d6abc63-b6ca-4c05-9e69-9ae8ec507905"
      },
      "source": [
        "housing = fetch_california_housing()"
      ],
      "execution_count": 3,
      "outputs": [
        {
          "output_type": "stream",
          "text": [
            "Downloading Cal. housing from https://ndownloader.figshare.com/files/5976036 to /root/scikit_learn_data\n"
          ],
          "name": "stderr"
        }
      ]
    },
    {
      "cell_type": "code",
      "metadata": {
        "id": "Vltlon0_8SgI"
      },
      "source": [
        "X_train_full, X_test, y_train_full, y_test = train_test_split(housing.data, housing.target)\n"
      ],
      "execution_count": 48,
      "outputs": []
    },
    {
      "cell_type": "code",
      "metadata": {
        "id": "egsJwnsL89a5"
      },
      "source": [
        "X_train, X_valid, y_train, y_valid = train_test_split(X_train_full, y_train_full)"
      ],
      "execution_count": 49,
      "outputs": []
    },
    {
      "cell_type": "code",
      "metadata": {
        "id": "ipQkNrDR9Gfn"
      },
      "source": [
        "scaler = StandardScaler()"
      ],
      "execution_count": 50,
      "outputs": []
    },
    {
      "cell_type": "code",
      "metadata": {
        "colab": {
          "base_uri": "https://localhost:8080/"
        },
        "id": "pA71xjeZ9a6Q",
        "outputId": "e8b9aed0-5092-4cef-a351-16bd6a5d1a82"
      },
      "source": [
        "scaler.fit_transform(X_train)\n",
        "scaler.transform(X_valid)\n",
        "scaler.transform(X_test)"
      ],
      "execution_count": 51,
      "outputs": [
        {
          "output_type": "execute_result",
          "data": {
            "text/plain": [
              "array([[ 2.05119389,  0.4234919 ,  0.21375962, ..., -0.06285689,\n",
              "        -0.70592019,  0.55361638],\n",
              "       [-0.62519119,  0.58271536, -0.12282289, ...,  0.02273931,\n",
              "         1.29748701, -1.578823  ],\n",
              "       [ 1.61864027,  0.58271536,  0.58738095, ..., -0.03209089,\n",
              "        -0.67790051,  0.73298044],\n",
              "       ...,\n",
              "       [ 0.02072679,  0.34388017, -0.13748312, ..., -0.0074003 ,\n",
              "         0.97059073, -1.40942361],\n",
              "       [ 0.16133368,  0.10504497, -0.01522543, ..., -0.11789879,\n",
              "         1.52631441, -1.52899965],\n",
              "       [-0.82102687,  0.82155056, -0.60108285, ...,  0.0840803 ,\n",
              "        -0.82733881,  1.00202653]])"
            ]
          },
          "metadata": {
            "tags": []
          },
          "execution_count": 51
        }
      ]
    },
    {
      "cell_type": "code",
      "metadata": {
        "id": "1gnEqixz9mJb"
      },
      "source": [
        "model_1 = keras.models.Sequential([\n",
        "                          keras.layers.Dense(30, activation='relu', input_shape = X_train.shape[1:]),\n",
        "                          keras.layers.Dense(1)\n",
        "                          ])"
      ],
      "execution_count": 22,
      "outputs": []
    },
    {
      "cell_type": "code",
      "metadata": {
        "id": "e7VnsxtjHCYv"
      },
      "source": [
        "model_1.compile(loss='mean_squared_error', optimizer='adam')"
      ],
      "execution_count": 23,
      "outputs": []
    },
    {
      "cell_type": "code",
      "metadata": {
        "colab": {
          "base_uri": "https://localhost:8080/"
        },
        "id": "ZYkUnFv6HT_O",
        "outputId": "ef154f81-792a-43bd-ef13-9363a001aee8"
      },
      "source": [
        "history = model_1.fit(X_train, y_train, epochs=50, validation_data=(X_valid, y_valid))"
      ],
      "execution_count": 24,
      "outputs": [
        {
          "output_type": "stream",
          "text": [
            "Epoch 1/50\n",
            "363/363 [==============================] - 1s 2ms/step - loss: 171592.9299 - val_loss: 38.5934\n",
            "Epoch 2/50\n",
            "363/363 [==============================] - 0s 1ms/step - loss: 27.7202 - val_loss: 7.1628\n",
            "Epoch 3/50\n",
            "363/363 [==============================] - 0s 1ms/step - loss: 5.6643 - val_loss: 2.0301\n",
            "Epoch 4/50\n",
            "363/363 [==============================] - 0s 1ms/step - loss: 1.9231 - val_loss: 1.5311\n",
            "Epoch 5/50\n",
            "363/363 [==============================] - 0s 1ms/step - loss: 1.5031 - val_loss: 1.8692\n",
            "Epoch 6/50\n",
            "363/363 [==============================] - 0s 1ms/step - loss: 1.2761 - val_loss: 0.9889\n",
            "Epoch 7/50\n",
            "363/363 [==============================] - 0s 1ms/step - loss: 1.0362 - val_loss: 0.9068\n",
            "Epoch 8/50\n",
            "363/363 [==============================] - 0s 1ms/step - loss: 0.9975 - val_loss: 1.1163\n",
            "Epoch 9/50\n",
            "363/363 [==============================] - 0s 1ms/step - loss: 0.9523 - val_loss: 1.4791\n",
            "Epoch 10/50\n",
            "363/363 [==============================] - 0s 1ms/step - loss: 0.9677 - val_loss: 0.8949\n",
            "Epoch 11/50\n",
            "363/363 [==============================] - 0s 1ms/step - loss: 0.8358 - val_loss: 0.7413\n",
            "Epoch 12/50\n",
            "363/363 [==============================] - 0s 1ms/step - loss: 1.0568 - val_loss: 0.8324\n",
            "Epoch 13/50\n",
            "363/363 [==============================] - 0s 1ms/step - loss: 0.8620 - val_loss: 0.7382\n",
            "Epoch 14/50\n",
            "363/363 [==============================] - 0s 1ms/step - loss: 0.9327 - val_loss: 1.2243\n",
            "Epoch 15/50\n",
            "363/363 [==============================] - 0s 1ms/step - loss: 0.8251 - val_loss: 0.8132\n",
            "Epoch 16/50\n",
            "363/363 [==============================] - 0s 1ms/step - loss: 0.7565 - val_loss: 0.7669\n",
            "Epoch 17/50\n",
            "363/363 [==============================] - 0s 1ms/step - loss: 0.8128 - val_loss: 1.0716\n",
            "Epoch 18/50\n",
            "363/363 [==============================] - 0s 1ms/step - loss: 0.8725 - val_loss: 1.3077\n",
            "Epoch 19/50\n",
            "363/363 [==============================] - 0s 1ms/step - loss: 0.8356 - val_loss: 1.2498\n",
            "Epoch 20/50\n",
            "363/363 [==============================] - 0s 1ms/step - loss: 3.2517 - val_loss: 0.6588\n",
            "Epoch 21/50\n",
            "363/363 [==============================] - 0s 1ms/step - loss: 0.7110 - val_loss: 0.7164\n",
            "Epoch 22/50\n",
            "363/363 [==============================] - 0s 1ms/step - loss: 0.8328 - val_loss: 7.7801\n",
            "Epoch 23/50\n",
            "363/363 [==============================] - 0s 1ms/step - loss: 2.2244 - val_loss: 1.0120\n",
            "Epoch 24/50\n",
            "363/363 [==============================] - 0s 1ms/step - loss: 1.0809 - val_loss: 12.8778\n",
            "Epoch 25/50\n",
            "363/363 [==============================] - 0s 1ms/step - loss: 3.0422 - val_loss: 0.7135\n",
            "Epoch 26/50\n",
            "363/363 [==============================] - 0s 1ms/step - loss: 1.4062 - val_loss: 1.5156\n",
            "Epoch 27/50\n",
            "363/363 [==============================] - 0s 1ms/step - loss: 3.0877 - val_loss: 1.5484\n",
            "Epoch 28/50\n",
            "363/363 [==============================] - 0s 1ms/step - loss: 5.6869 - val_loss: 7.5897\n",
            "Epoch 29/50\n",
            "363/363 [==============================] - 0s 1ms/step - loss: 2.2962 - val_loss: 0.7665\n",
            "Epoch 30/50\n",
            "363/363 [==============================] - 0s 1ms/step - loss: 1.3170 - val_loss: 0.7252\n",
            "Epoch 31/50\n",
            "363/363 [==============================] - 0s 1ms/step - loss: 20.6003 - val_loss: 2.9279\n",
            "Epoch 32/50\n",
            "363/363 [==============================] - 0s 1ms/step - loss: 1.1155 - val_loss: 0.9580\n",
            "Epoch 33/50\n",
            "363/363 [==============================] - 0s 1ms/step - loss: 1.0090 - val_loss: 1.5666\n",
            "Epoch 34/50\n",
            "363/363 [==============================] - 0s 1ms/step - loss: 2.6349 - val_loss: 0.8831\n",
            "Epoch 35/50\n",
            "363/363 [==============================] - 0s 1ms/step - loss: 2.3699 - val_loss: 0.8410\n",
            "Epoch 36/50\n",
            "363/363 [==============================] - 0s 1ms/step - loss: 0.9416 - val_loss: 1.0288\n",
            "Epoch 37/50\n",
            "363/363 [==============================] - 0s 1ms/step - loss: 1.1467 - val_loss: 1.2200\n",
            "Epoch 38/50\n",
            "363/363 [==============================] - 0s 1ms/step - loss: 1.9137 - val_loss: 20.9880\n",
            "Epoch 39/50\n",
            "363/363 [==============================] - 0s 1ms/step - loss: 3.6546 - val_loss: 0.8396\n",
            "Epoch 40/50\n",
            "363/363 [==============================] - 0s 1ms/step - loss: 0.9862 - val_loss: 0.6222\n",
            "Epoch 41/50\n",
            "363/363 [==============================] - 0s 1ms/step - loss: 0.7628 - val_loss: 0.7270\n",
            "Epoch 42/50\n",
            "363/363 [==============================] - 0s 1ms/step - loss: 0.8227 - val_loss: 0.9125\n",
            "Epoch 43/50\n",
            "363/363 [==============================] - 0s 1ms/step - loss: 2.6291 - val_loss: 2.7154\n",
            "Epoch 44/50\n",
            "363/363 [==============================] - 0s 1ms/step - loss: 2.4667 - val_loss: 0.7936\n",
            "Epoch 45/50\n",
            "363/363 [==============================] - 0s 1ms/step - loss: 1.0841 - val_loss: 0.7982\n",
            "Epoch 46/50\n",
            "363/363 [==============================] - 0s 1ms/step - loss: 15.4091 - val_loss: 0.9415\n",
            "Epoch 47/50\n",
            "363/363 [==============================] - 0s 1ms/step - loss: 0.9171 - val_loss: 0.6212\n",
            "Epoch 48/50\n",
            "363/363 [==============================] - 0s 1ms/step - loss: 4.4423 - val_loss: 0.6807\n",
            "Epoch 49/50\n",
            "363/363 [==============================] - 0s 1ms/step - loss: 0.7002 - val_loss: 1.1000\n",
            "Epoch 50/50\n",
            "363/363 [==============================] - 0s 1ms/step - loss: 1.0200 - val_loss: 0.7277\n"
          ],
          "name": "stdout"
        }
      ]
    },
    {
      "cell_type": "code",
      "metadata": {
        "colab": {
          "base_uri": "https://localhost:8080/"
        },
        "id": "MnpMFnZNHiB2",
        "outputId": "64bb9ab8-5817-4186-e16e-84bd51509a29"
      },
      "source": [
        "mse_model_1_test = model_1.evaluate(X_test, y_test)"
      ],
      "execution_count": 25,
      "outputs": [
        {
          "output_type": "stream",
          "text": [
            "162/162 [==============================] - 0s 759us/step - loss: 0.7577\n"
          ],
          "name": "stdout"
        }
      ]
    },
    {
      "cell_type": "code",
      "metadata": {
        "colab": {
          "base_uri": "https://localhost:8080/",
          "height": 704
        },
        "id": "arsK_xWSOeUy",
        "outputId": "763f29ae-7fbf-4737-e4cd-3fbd9e53e04d"
      },
      "source": [
        "import pandas as pd\n",
        "pd.DataFrame(history.history).plot(figsize=(18, 12))\n",
        "plt.grid(True)\n",
        "plt.gca().set_ylim(0, 70) # set the vertical range to [0-1]\n",
        "plt.show()"
      ],
      "execution_count": 26,
      "outputs": [
        {
          "output_type": "display_data",
          "data": {
            "image/png": "[encoded data removed]",
            "text/plain": [
              "<Figure size 1296x864 with 1 Axes>"
            ]
          },
          "metadata": {
            "tags": [],
            "needs_background": "light"
          }
        }
      ]
    },
    {
      "cell_type": "code",
      "metadata": {
        "id": "9hG3B6gcHuVO"
      },
      "source": [
        "input = keras.layers.Input(shape=X_train.shape[1:])\n",
        "hidden1 = keras.layers.Dense(30, activation='relu')(input)\n",
        "hidden2 = keras.layers.Dense(30, activation='relu')(hidden1)\n",
        "concat = keras.layers.Concatenate()([input, hidden2])\n",
        "output = keras.layers.Dense(1)(concat)\n",
        "model_2 = keras.models.Model(inputs=[input], outputs=[output])"
      ],
      "execution_count": 52,
      "outputs": []
    },
    {
      "cell_type": "code",
      "metadata": {
        "id": "XbZvaigpKX9G"
      },
      "source": [
        "model_2.compile(loss='mean_squared_error', optimizer='adam')"
      ],
      "execution_count": 53,
      "outputs": []
    },
    {
      "cell_type": "code",
      "metadata": {
        "colab": {
          "base_uri": "https://localhost:8080/"
        },
        "id": "CmGJJWlFODbt",
        "outputId": "76698dd3-df2f-4f03-ec6b-d32f4aa78357"
      },
      "source": [
        "history_2 = model_2.fit(X_train, y_train, epochs=20, validation_data=(X_valid, y_valid))"
      ],
      "execution_count": 54,
      "outputs": [
        {
          "output_type": "stream",
          "text": [
            "Epoch 1/20\n",
            "363/363 [==============================] - 1s 2ms/step - loss: 33227.0175 - val_loss: 3.1807\n",
            "Epoch 2/20\n",
            "363/363 [==============================] - 1s 1ms/step - loss: 14.6670 - val_loss: 4.3968\n",
            "Epoch 3/20\n",
            "363/363 [==============================] - 0s 1ms/step - loss: 13.0328 - val_loss: 1.1537\n",
            "Epoch 4/20\n",
            "363/363 [==============================] - 1s 1ms/step - loss: 4.1313 - val_loss: 1.1456\n",
            "Epoch 5/20\n",
            "363/363 [==============================] - 0s 1ms/step - loss: 2.4712 - val_loss: 0.9976\n",
            "Epoch 6/20\n",
            "363/363 [==============================] - 0s 1ms/step - loss: 5.5651 - val_loss: 0.9265\n",
            "Epoch 7/20\n",
            "363/363 [==============================] - 0s 1ms/step - loss: 0.9648 - val_loss: 0.8400\n",
            "Epoch 8/20\n",
            "363/363 [==============================] - 0s 1ms/step - loss: 1.0631 - val_loss: 0.9174\n",
            "Epoch 9/20\n",
            "363/363 [==============================] - 0s 1ms/step - loss: 1.0348 - val_loss: 0.7786\n",
            "Epoch 10/20\n",
            "363/363 [==============================] - 1s 1ms/step - loss: 1.0751 - val_loss: 0.7810\n",
            "Epoch 11/20\n",
            "363/363 [==============================] - 0s 1ms/step - loss: 1.0646 - val_loss: 1.6239\n",
            "Epoch 12/20\n",
            "363/363 [==============================] - 1s 1ms/step - loss: 6.2688 - val_loss: 0.9860\n",
            "Epoch 13/20\n",
            "363/363 [==============================] - 0s 1ms/step - loss: 8.8712 - val_loss: 16.7371\n",
            "Epoch 14/20\n",
            "363/363 [==============================] - 0s 1ms/step - loss: 2.0736 - val_loss: 1.6590\n",
            "Epoch 15/20\n",
            "363/363 [==============================] - 0s 1ms/step - loss: 1.7127 - val_loss: 0.6967\n",
            "Epoch 16/20\n",
            "363/363 [==============================] - 1s 1ms/step - loss: 12.5349 - val_loss: 0.6865\n",
            "Epoch 17/20\n",
            "363/363 [==============================] - 0s 1ms/step - loss: 2.1894 - val_loss: 6.2427\n",
            "Epoch 18/20\n",
            "363/363 [==============================] - 0s 1ms/step - loss: 74.3312 - val_loss: 134.1086\n",
            "Epoch 19/20\n",
            "363/363 [==============================] - 0s 1ms/step - loss: 43.7923 - val_loss: 1.1310\n",
            "Epoch 20/20\n",
            "363/363 [==============================] - 1s 1ms/step - loss: 1.0775 - val_loss: 0.7791\n"
          ],
          "name": "stdout"
        }
      ]
    },
    {
      "cell_type": "code",
      "metadata": {
        "colab": {
          "base_uri": "https://localhost:8080/",
          "height": 700
        },
        "id": "soCV7i3VOGx0",
        "outputId": "b1cf2d86-3a6e-48c3-a98f-7ad9c6b8acbc"
      },
      "source": [
        "import pandas as pd\n",
        "pd.DataFrame(history_2.history).plot(figsize=(18, 12))\n",
        "plt.grid(True)\n",
        "plt.gca().set_ylim(0, 130) # set the vertical range to [0-1]\n",
        "plt.show()"
      ],
      "execution_count": 55,
      "outputs": [
        {
          "output_type": "display_data",
          "data": {
            "image/png": "[encoded data removed]",
            "text/plain": [
              "<Figure size 1296x864 with 1 Axes>"
            ]
          },
          "metadata": {
            "tags": [],
            "needs_background": "light"
          }
        }
      ]
    },
    {
      "cell_type": "code",
      "metadata": {
        "colab": {
          "base_uri": "https://localhost:8080/"
        },
        "id": "1_mPv-nDPs_0",
        "outputId": "3e2a0d0d-229c-4a4f-905a-789db1d2abfb"
      },
      "source": [
        "mse_model_2_test = model_2.evaluate(X_test, y_test)"
      ],
      "execution_count": 56,
      "outputs": [
        {
          "output_type": "stream",
          "text": [
            "162/162 [==============================] - 0s 788us/step - loss: 0.7752\n"
          ],
          "name": "stdout"
        }
      ]
    },
    {
      "cell_type": "code",
      "metadata": {
        "id": "0habKVMF8vvc"
      },
      "source": [
        "input_A = keras.layers.Input(shape=[5])\n",
        "input_B = keras.layers.Input(shape=[6])\n",
        "hidden1 = keras.layers.Dense(30, activation='relu')(input_B)\n",
        "hidden2 = keras.layers.Dense(30, activation='relu')(hidden1)\n",
        "concat = keras.layers.concatenate([input_A, input_B])\n",
        "output = keras.layers.Dense(1)(concat)"
      ],
      "execution_count": 58,
      "outputs": []
    },
    {
      "cell_type": "code",
      "metadata": {
        "id": "tjtJXlUm-Dxt"
      },
      "source": [
        "model_3 = keras.models.Model(inputs=[input_A, input_B], outputs=[output])"
      ],
      "execution_count": 60,
      "outputs": []
    },
    {
      "cell_type": "code",
      "metadata": {
        "id": "njIcbNWp-WpY"
      },
      "source": [
        "model_3.compile(loss='mse', optimizer='adam')"
      ],
      "execution_count": 62,
      "outputs": []
    },
    {
      "cell_type": "code",
      "metadata": {
        "id": "kO4OUJ4b-oci"
      },
      "source": [
        "X_train_A, X_train_B = X_train[:,:5], X_train[:,2:]\n",
        "X_test_A, X_test_B = X_test[:,:5], X_test[:,2:]\n",
        "X_valid_A, X_valid_B = X_valid[:,:5], X_valid[:,2:]\n",
        "X_new_A, X_new_B = X_test_A[:3], X_test_B[:3]"
      ],
      "execution_count": 64,
      "outputs": []
    },
    {
      "cell_type": "code",
      "metadata": {
        "colab": {
          "base_uri": "https://localhost:8080/"
        },
        "id": "qbMo0ePG_Bf6",
        "outputId": "8d9c4c19-97b4-4abc-aa45-73ecdb84d1f5"
      },
      "source": [
        "history_3 = model_3.fit((X_train_A, X_train_B), y_train, epochs=25, validation_data=((X_valid_A, X_valid_B), y_valid))"
      ],
      "execution_count": 65,
      "outputs": [
        {
          "output_type": "stream",
          "text": [
            "Epoch 1/25\n",
            "363/363 [==============================] - 1s 1ms/step - loss: 24297.1238 - val_loss: 770.7271\n",
            "Epoch 2/25\n",
            "363/363 [==============================] - 0s 1ms/step - loss: 643.5314 - val_loss: 266.9952\n",
            "Epoch 3/25\n",
            "363/363 [==============================] - 0s 1ms/step - loss: 211.7824 - val_loss: 105.0379\n",
            "Epoch 4/25\n",
            "363/363 [==============================] - 0s 1ms/step - loss: 97.6410 - val_loss: 72.1292\n",
            "Epoch 5/25\n",
            "363/363 [==============================] - 0s 1ms/step - loss: 78.2522 - val_loss: 72.5359\n",
            "Epoch 6/25\n",
            "363/363 [==============================] - 0s 1ms/step - loss: 65.2736 - val_loss: 51.1983\n",
            "Epoch 7/25\n",
            "363/363 [==============================] - 0s 1ms/step - loss: 52.6023 - val_loss: 41.0179\n",
            "Epoch 8/25\n",
            "363/363 [==============================] - 0s 1ms/step - loss: 41.7811 - val_loss: 32.7168\n",
            "Epoch 9/25\n",
            "363/363 [==============================] - 0s 1ms/step - loss: 33.6417 - val_loss: 24.1761\n",
            "Epoch 10/25\n",
            "363/363 [==============================] - 0s 1ms/step - loss: 24.9711 - val_loss: 17.7495\n",
            "Epoch 11/25\n",
            "363/363 [==============================] - 0s 1ms/step - loss: 18.6132 - val_loss: 12.3635\n",
            "Epoch 12/25\n",
            "363/363 [==============================] - 0s 1ms/step - loss: 12.8165 - val_loss: 8.5963\n",
            "Epoch 13/25\n",
            "363/363 [==============================] - 0s 1ms/step - loss: 9.2161 - val_loss: 6.2677\n",
            "Epoch 14/25\n",
            "363/363 [==============================] - 0s 1ms/step - loss: 8.6363 - val_loss: 9.8632\n",
            "Epoch 15/25\n",
            "363/363 [==============================] - 0s 1ms/step - loss: 5.7581 - val_loss: 3.4656\n",
            "Epoch 16/25\n",
            "363/363 [==============================] - 0s 1ms/step - loss: 4.2731 - val_loss: 2.8055\n",
            "Epoch 17/25\n",
            "363/363 [==============================] - 0s 1ms/step - loss: 4.2689 - val_loss: 2.4003\n",
            "Epoch 18/25\n",
            "363/363 [==============================] - 0s 1ms/step - loss: 2.5871 - val_loss: 2.1064\n",
            "Epoch 19/25\n",
            "363/363 [==============================] - 0s 1ms/step - loss: 2.2475 - val_loss: 7.6180\n",
            "Epoch 20/25\n",
            "363/363 [==============================] - 0s 1ms/step - loss: 2.7827 - val_loss: 1.6970\n",
            "Epoch 21/25\n",
            "363/363 [==============================] - 0s 1ms/step - loss: 1.9761 - val_loss: 1.6406\n",
            "Epoch 22/25\n",
            "363/363 [==============================] - 0s 1ms/step - loss: 2.1660 - val_loss: 1.5410\n",
            "Epoch 23/25\n",
            "363/363 [==============================] - 0s 1ms/step - loss: 1.6454 - val_loss: 2.7479\n",
            "Epoch 24/25\n",
            "363/363 [==============================] - 0s 1ms/step - loss: 1.6550 - val_loss: 1.3154\n",
            "Epoch 25/25\n",
            "363/363 [==============================] - 0s 1ms/step - loss: 1.4912 - val_loss: 1.4655\n"
          ],
          "name": "stdout"
        }
      ]
    },
    {
      "cell_type": "code",
      "metadata": {
        "colab": {
          "base_uri": "https://localhost:8080/"
        },
        "id": "-zvxj4va_CwA",
        "outputId": "3b55dca6-8dd2-4f91-82b2-ea646c2ac85c"
      },
      "source": [
        "mse_model_3_test = model_3.evaluate((X_test_A, X_test_B), y_test)"
      ],
      "execution_count": 67,
      "outputs": [
        {
          "output_type": "stream",
          "text": [
            "162/162 [==============================] - 0s 764us/step - loss: 1.4368\n"
          ],
          "name": "stdout"
        }
      ]
    },
    {
      "cell_type": "code",
      "metadata": {
        "id": "73OHisNYA8st"
      },
      "source": [
        "y_pred = model_3.predict((X_new_A, X_new_B))"
      ],
      "execution_count": 68,
      "outputs": []
    },
    {
      "cell_type": "code",
      "metadata": {
        "colab": {
          "base_uri": "https://localhost:8080/"
        },
        "id": "2njJRC6jBMix",
        "outputId": "08632db9-6c8d-4be2-e82e-e1891ec64c11"
      },
      "source": [
        "y_pred"
      ],
      "execution_count": 69,
      "outputs": [
        {
          "output_type": "execute_result",
          "data": {
            "text/plain": [
              "array([[3.06734  ],\n",
              "       [2.0451384],\n",
              "       [2.807364 ]], dtype=float32)"
            ]
          },
          "metadata": {
            "tags": []
          },
          "execution_count": 69
        }
      ]
    },
    {
      "cell_type": "code",
      "metadata": {
        "id": "zv9IkJLgBQ5f"
      },
      "source": [
        ""
      ],
      "execution_count": null,
      "outputs": []
    }
  ]
}