{
  "nbformat": 4,
  "nbformat_minor": 0,
  "metadata": {
    "colab": {
      "name": "HoML-fashionMNIST.ipynb",
      "provenance": [],
      "authorship_tag": "ABX9TyPGtLMrEI+lm7Gd5QhRmTG7",
      "include_colab_link": true
    },
    "kernelspec": {
      "name": "python3",
      "display_name": "Python 3"
    }
  },
  "cells": [
    {
      "cell_type": "markdown",
      "metadata": {
        "id": "view-in-github",
        "colab_type": "text"
      },
      "source": [
        "<a href=\"https://colab.research.google.com/github/Chercas/ML_2021/blob/main/Simpliest_tf_keras_ML_for_fashionMNIST.ipynb\" target=\"_parent\"><img src=\"https://colab.research.google.com/assets/colab-badge.svg\" alt=\"Open In Colab\"/></a>"
      ]
    },
    {
      "cell_type": "code",
      "metadata": {
        "colab": {
          "base_uri": "https://localhost:8080/"
        },
        "id": "GXtavdzyhIbu",
        "outputId": "fecca053-8cdf-4e87-d872-c20c690a8e4e"
      },
      "source": [
        "# TensorFlow and tf.keras\n",
        "import tensorflow as tf\n",
        "from tensorflow import keras\n",
        "# Helper libraries\n",
        "import numpy as np\n",
        "import matplotlib.pyplot as plt\n",
        "\n",
        "print(tf.__version__)"
      ],
      "execution_count": 16,
      "outputs": [
        {
          "output_type": "stream",
          "text": [
            "2.4.1\n"
          ],
          "name": "stdout"
        }
      ]
    },
    {
      "cell_type": "code",
      "metadata": {
        "id": "ErCGffxMhLlm"
      },
      "source": [
        "fashion_mnist = keras.datasets.fashion_mnist\n",
        "(X_train_full, y_train_full), (X_test, y_test) = fashion_mnist.load_data()"
      ],
      "execution_count": 17,
      "outputs": []
    },
    {
      "cell_type": "code",
      "metadata": {
        "id": "TGYqDINOhUsZ"
      },
      "source": [
        "X_valid, X_train = X_train_full[:5000] / 255.0, X_train_full[5000:] / 255.0\n",
        "y_valid, y_train = y_train_full[:5000], y_train_full[5000:]"
      ],
      "execution_count": 18,
      "outputs": []
    },
    {
      "cell_type": "code",
      "metadata": {
        "id": "w2eCkekwhXGI"
      },
      "source": [
        "model = keras.models.Sequential()"
      ],
      "execution_count": 19,
      "outputs": []
    },
    {
      "cell_type": "code",
      "metadata": {
        "id": "uC1DVDmbhZCL"
      },
      "source": [
        "model.add(keras.layers.Flatten(input_shape=[28,28]))\n",
        "model.add(keras.layers.Dense(300, activation='relu'))\n",
        "model.add(keras.layers.Dense(100, activation='relu'))\n",
        "model.add(keras.layers.Dense(10, activation='softmax'))"
      ],
      "execution_count": 20,
      "outputs": []
    },
    {
      "cell_type": "code",
      "metadata": {
        "colab": {
          "base_uri": "https://localhost:8080/"
        },
        "id": "cjQH4J1Ahb-0",
        "outputId": "494ca4a3-bf75-4ceb-d2ee-c50f83c8f548"
      },
      "source": [
        "model.summary()"
      ],
      "execution_count": 21,
      "outputs": [
        {
          "output_type": "stream",
          "text": [
            "Model: \"sequential_1\"\n",
            "_________________________________________________________________\n",
            "Layer (type)                 Output Shape              Param #   \n",
            "=================================================================\n",
            "flatten_2 (Flatten)          (None, 784)               0         \n",
            "_________________________________________________________________\n",
            "dense_3 (Dense)              (None, 300)               235500    \n",
            "_________________________________________________________________\n",
            "dense_4 (Dense)              (None, 100)               30100     \n",
            "_________________________________________________________________\n",
            "dense_5 (Dense)              (None, 10)                1010      \n",
            "=================================================================\n",
            "Total params: 266,610\n",
            "Trainable params: 266,610\n",
            "Non-trainable params: 0\n",
            "_________________________________________________________________\n"
          ],
          "name": "stdout"
        }
      ]
    },
    {
      "cell_type": "code",
      "metadata": {
        "id": "DQvxoYlvhizs"
      },
      "source": [
        "model.compile(loss='sparse_categorical_crossentropy',\n",
        "             optimizer='sgd',\n",
        "             metrics=['accuracy'])"
      ],
      "execution_count": 22,
      "outputs": []
    },
    {
      "cell_type": "code",
      "metadata": {
        "colab": {
          "base_uri": "https://localhost:8080/"
        },
        "id": "31b7Ma7ghmJR",
        "outputId": "2688fe31-5a71-4de4-936c-496f4f4ef9c8"
      },
      "source": [
        "history = model.fit(X_train, y_train, epochs=43, validation_data=(X_valid, y_valid))"
      ],
      "execution_count": 24,
      "outputs": [
        {
          "output_type": "stream",
          "text": [
            "Epoch 1/43\n",
            "1719/1719 [==============================] - 5s 3ms/step - loss: 0.4941 - accuracy: 0.8288 - val_loss: 0.4648 - val_accuracy: 0.8416\n",
            "Epoch 2/43\n",
            "1719/1719 [==============================] - 5s 3ms/step - loss: 0.4465 - accuracy: 0.8444 - val_loss: 0.4466 - val_accuracy: 0.8410\n",
            "Epoch 3/43\n",
            "1719/1719 [==============================] - 5s 3ms/step - loss: 0.4190 - accuracy: 0.8541 - val_loss: 0.3953 - val_accuracy: 0.8634\n",
            "Epoch 4/43\n",
            "1719/1719 [==============================] - 5s 3ms/step - loss: 0.3986 - accuracy: 0.8601 - val_loss: 0.3902 - val_accuracy: 0.8648\n",
            "Epoch 5/43\n",
            "1719/1719 [==============================] - 5s 3ms/step - loss: 0.3826 - accuracy: 0.8655 - val_loss: 0.3760 - val_accuracy: 0.8732\n",
            "Epoch 6/43\n",
            "1719/1719 [==============================] - 5s 3ms/step - loss: 0.3690 - accuracy: 0.8701 - val_loss: 0.3635 - val_accuracy: 0.8744\n",
            "Epoch 7/43\n",
            "1719/1719 [==============================] - 5s 3ms/step - loss: 0.3570 - accuracy: 0.8739 - val_loss: 0.3665 - val_accuracy: 0.8686\n",
            "Epoch 8/43\n",
            "1719/1719 [==============================] - 5s 3ms/step - loss: 0.3473 - accuracy: 0.8767 - val_loss: 0.3650 - val_accuracy: 0.8732\n",
            "Epoch 9/43\n",
            "1719/1719 [==============================] - 5s 3ms/step - loss: 0.3383 - accuracy: 0.8796 - val_loss: 0.3457 - val_accuracy: 0.8810\n",
            "Epoch 10/43\n",
            "1719/1719 [==============================] - 6s 3ms/step - loss: 0.3282 - accuracy: 0.8832 - val_loss: 0.3477 - val_accuracy: 0.8810\n",
            "Epoch 11/43\n",
            "1719/1719 [==============================] - 6s 3ms/step - loss: 0.3201 - accuracy: 0.8855 - val_loss: 0.3408 - val_accuracy: 0.8778\n",
            "Epoch 12/43\n",
            "1719/1719 [==============================] - 6s 3ms/step - loss: 0.3137 - accuracy: 0.8877 - val_loss: 0.3532 - val_accuracy: 0.8712\n",
            "Epoch 13/43\n",
            "1719/1719 [==============================] - 6s 3ms/step - loss: 0.3068 - accuracy: 0.8886 - val_loss: 0.3470 - val_accuracy: 0.8782\n",
            "Epoch 14/43\n",
            "1719/1719 [==============================] - 5s 3ms/step - loss: 0.2996 - accuracy: 0.8922 - val_loss: 0.3436 - val_accuracy: 0.8776\n",
            "Epoch 15/43\n",
            "1719/1719 [==============================] - 5s 3ms/step - loss: 0.2946 - accuracy: 0.8950 - val_loss: 0.3288 - val_accuracy: 0.8846\n",
            "Epoch 16/43\n",
            "1719/1719 [==============================] - 5s 3ms/step - loss: 0.2887 - accuracy: 0.8965 - val_loss: 0.3146 - val_accuracy: 0.8866\n",
            "Epoch 17/43\n",
            "1719/1719 [==============================] - 5s 3ms/step - loss: 0.2825 - accuracy: 0.8977 - val_loss: 0.3291 - val_accuracy: 0.8836\n",
            "Epoch 18/43\n",
            "1719/1719 [==============================] - 5s 3ms/step - loss: 0.2777 - accuracy: 0.8995 - val_loss: 0.3107 - val_accuracy: 0.8876\n",
            "Epoch 19/43\n",
            "1719/1719 [==============================] - 5s 3ms/step - loss: 0.2722 - accuracy: 0.9007 - val_loss: 0.3155 - val_accuracy: 0.8864\n",
            "Epoch 20/43\n",
            "1719/1719 [==============================] - 5s 3ms/step - loss: 0.2677 - accuracy: 0.9039 - val_loss: 0.3071 - val_accuracy: 0.8890\n",
            "Epoch 21/43\n",
            "1719/1719 [==============================] - 5s 3ms/step - loss: 0.2632 - accuracy: 0.9049 - val_loss: 0.3240 - val_accuracy: 0.8858\n",
            "Epoch 22/43\n",
            "1719/1719 [==============================] - 5s 3ms/step - loss: 0.2582 - accuracy: 0.9077 - val_loss: 0.3090 - val_accuracy: 0.8934\n",
            "Epoch 23/43\n",
            "1719/1719 [==============================] - 5s 3ms/step - loss: 0.2541 - accuracy: 0.9088 - val_loss: 0.3185 - val_accuracy: 0.8888\n",
            "Epoch 24/43\n",
            "1719/1719 [==============================] - 5s 3ms/step - loss: 0.2490 - accuracy: 0.9102 - val_loss: 0.3024 - val_accuracy: 0.8942\n",
            "Epoch 25/43\n",
            "1719/1719 [==============================] - 5s 3ms/step - loss: 0.2449 - accuracy: 0.9104 - val_loss: 0.3175 - val_accuracy: 0.8844\n",
            "Epoch 26/43\n",
            "1719/1719 [==============================] - 5s 3ms/step - loss: 0.2415 - accuracy: 0.9125 - val_loss: 0.3007 - val_accuracy: 0.8912\n",
            "Epoch 27/43\n",
            "1719/1719 [==============================] - 6s 3ms/step - loss: 0.2373 - accuracy: 0.9135 - val_loss: 0.3143 - val_accuracy: 0.8832\n",
            "Epoch 28/43\n",
            "1719/1719 [==============================] - 5s 3ms/step - loss: 0.2338 - accuracy: 0.9142 - val_loss: 0.3079 - val_accuracy: 0.8848\n",
            "Epoch 29/43\n",
            "1719/1719 [==============================] - 6s 3ms/step - loss: 0.2300 - accuracy: 0.9165 - val_loss: 0.3143 - val_accuracy: 0.8902\n",
            "Epoch 30/43\n",
            "1719/1719 [==============================] - 6s 3ms/step - loss: 0.2264 - accuracy: 0.9175 - val_loss: 0.2966 - val_accuracy: 0.8966\n",
            "Epoch 31/43\n",
            "1719/1719 [==============================] - 5s 3ms/step - loss: 0.2229 - accuracy: 0.9198 - val_loss: 0.3086 - val_accuracy: 0.8896\n",
            "Epoch 32/43\n",
            "1719/1719 [==============================] - 5s 3ms/step - loss: 0.2202 - accuracy: 0.9206 - val_loss: 0.3188 - val_accuracy: 0.8824\n",
            "Epoch 33/43\n",
            "1719/1719 [==============================] - 6s 3ms/step - loss: 0.2149 - accuracy: 0.9231 - val_loss: 0.2971 - val_accuracy: 0.8918\n",
            "Epoch 34/43\n",
            "1719/1719 [==============================] - 6s 3ms/step - loss: 0.2124 - accuracy: 0.9240 - val_loss: 0.3111 - val_accuracy: 0.8902\n",
            "Epoch 35/43\n",
            "1719/1719 [==============================] - 6s 3ms/step - loss: 0.2088 - accuracy: 0.9245 - val_loss: 0.2955 - val_accuracy: 0.8924\n",
            "Epoch 36/43\n",
            "1719/1719 [==============================] - 6s 3ms/step - loss: 0.2056 - accuracy: 0.9258 - val_loss: 0.3247 - val_accuracy: 0.8824\n",
            "Epoch 37/43\n",
            "1719/1719 [==============================] - 6s 3ms/step - loss: 0.2020 - accuracy: 0.9270 - val_loss: 0.3044 - val_accuracy: 0.8916\n",
            "Epoch 38/43\n",
            "1719/1719 [==============================] - 6s 3ms/step - loss: 0.1983 - accuracy: 0.9297 - val_loss: 0.2971 - val_accuracy: 0.8920\n",
            "Epoch 39/43\n",
            "1719/1719 [==============================] - 5s 3ms/step - loss: 0.1959 - accuracy: 0.9294 - val_loss: 0.3055 - val_accuracy: 0.8942\n",
            "Epoch 40/43\n",
            "1719/1719 [==============================] - 6s 3ms/step - loss: 0.1925 - accuracy: 0.9304 - val_loss: 0.3004 - val_accuracy: 0.8936\n",
            "Epoch 41/43\n",
            "1719/1719 [==============================] - 5s 3ms/step - loss: 0.1894 - accuracy: 0.9318 - val_loss: 0.2917 - val_accuracy: 0.8988\n",
            "Epoch 42/43\n",
            "1719/1719 [==============================] - 6s 3ms/step - loss: 0.1873 - accuracy: 0.9327 - val_loss: 0.2958 - val_accuracy: 0.8924\n",
            "Epoch 43/43\n",
            "1719/1719 [==============================] - 5s 3ms/step - loss: 0.1843 - accuracy: 0.9350 - val_loss: 0.2965 - val_accuracy: 0.8998\n"
          ],
          "name": "stdout"
        }
      ]
    },
    {
      "cell_type": "code",
      "metadata": {
        "colab": {
          "base_uri": "https://localhost:8080/",
          "height": 704
        },
        "id": "WxcdQ2W1hoRk",
        "outputId": "bcdd2a30-47f6-4482-d5eb-320fea8a4448"
      },
      "source": [
        "import pandas as pd\n",
        "pd.DataFrame(history.history).plot(figsize=(18, 12))\n",
        "plt.grid(True)\n",
        "plt.gca().set_ylim(0, 1) # set the vertical range to [0-1]\n",
        "plt.show()"
      ],
      "execution_count": 25,
      "outputs": [
        {
          "output_type": "display_data",
          "data": {
            "image/png": "[encoded data removed]",
            "text/plain": [
              "<Figure size 1296x864 with 1 Axes>"
            ]
          },
          "metadata": {
            "tags": [],
            "needs_background": "light"
          }
        }
      ]
    },
    {
      "cell_type": "code",
      "metadata": {
        "colab": {
          "base_uri": "https://localhost:8080/"
        },
        "id": "RCGTFdgfh4Va",
        "outputId": "249341cf-38b5-4e42-c5c5-e8f2ddf3caed"
      },
      "source": [
        "model.evaluate(X_test,y_test)"
      ],
      "execution_count": 26,
      "outputs": [
        {
          "output_type": "stream",
          "text": [
            "313/313 [==============================] - 1s 2ms/step - loss: 81.1835 - accuracy: 0.8350\n"
          ],
          "name": "stdout"
        },
        {
          "output_type": "execute_result",
          "data": {
            "text/plain": [
              "[81.18352508544922, 0.8349999785423279]"
            ]
          },
          "metadata": {
            "tags": []
          },
          "execution_count": 26
        }
      ]
    },
    {
      "cell_type": "code",
      "metadata": {
        "id": "kGVvdeo2mlht"
      },
      "source": [
        "X_new = X_test[:3]\n",
        "y_proba = model.predict(X_new)"
      ],
      "execution_count": 38,
      "outputs": []
    },
    {
      "cell_type": "code",
      "metadata": {
        "colab": {
          "base_uri": "https://localhost:8080/"
        },
        "id": "t-GGBTAX422O",
        "outputId": "83356fe8-e1ac-4bd9-ddc6-de3bd4f60d80"
      },
      "source": [
        "y_proba.round(3)"
      ],
      "execution_count": 39,
      "outputs": [
        {
          "output_type": "execute_result",
          "data": {
            "text/plain": [
              "array([[0., 0., 0., 0., 0., 0., 0., 0., 0., 1.],\n",
              "       [0., 0., 1., 0., 0., 0., 0., 0., 0., 0.],\n",
              "       [0., 1., 0., 0., 0., 0., 0., 0., 0., 0.]], dtype=float32)"
            ]
          },
          "metadata": {
            "tags": []
          },
          "execution_count": 39
        }
      ]
    },
    {
      "cell_type": "code",
      "metadata": {
        "colab": {
          "base_uri": "https://localhost:8080/"
        },
        "id": "xs_Eyqcq45Sw",
        "outputId": "53e32c1e-05aa-4151-d015-5f0a714531b9"
      },
      "source": [
        "y_pred = model.predict_classes(X_new)\n",
        "y_pred"
      ],
      "execution_count": 40,
      "outputs": [
        {
          "output_type": "stream",
          "text": [
            "/usr/local/lib/python3.7/dist-packages/tensorflow/python/keras/engine/sequential.py:450: UserWarning: `model.predict_classes()` is deprecated and will be removed after 2021-01-01. Please use instead:* `np.argmax(model.predict(x), axis=-1)`,   if your model does multi-class classification   (e.g. if it uses a `softmax` last-layer activation).* `(model.predict(x) > 0.5).astype(\"int32\")`,   if your model does binary classification   (e.g. if it uses a `sigmoid` last-layer activation).\n",
            "  warnings.warn('`model.predict_classes()` is deprecated and '\n"
          ],
          "name": "stderr"
        },
        {
          "output_type": "execute_result",
          "data": {
            "text/plain": [
              "array([9, 2, 1])"
            ]
          },
          "metadata": {
            "tags": []
          },
          "execution_count": 40
        }
      ]
    },
    {
      "cell_type": "code",
      "metadata": {
        "id": "wmtpxZPV5sci"
      },
      "source": [
        "class_names = [\"T-shirt/top\", \"Trouser\", \"Pullover\", \"Dress\", \"Coat\",\n",
        "\"Sandal\", \"Shirt\", \"Sneaker\", \"Bag\", \"Ankle boot\"]"
      ],
      "execution_count": 41,
      "outputs": []
    },
    {
      "cell_type": "code",
      "metadata": {
        "colab": {
          "base_uri": "https://localhost:8080/"
        },
        "id": "NJKnUcNJ56_7",
        "outputId": "60aae49b-5fc5-46ff-a2cb-78e9d4e9f970"
      },
      "source": [
        "np.array(class_names)[y_pred]"
      ],
      "execution_count": 47,
      "outputs": [
        {
          "output_type": "execute_result",
          "data": {
            "text/plain": [
              "array(['Ankle boot', 'Pullover', 'Trouser'], dtype='<U11')"
            ]
          },
          "metadata": {
            "tags": []
          },
          "execution_count": 47
        }
      ]
    },
    {
      "cell_type": "code",
      "metadata": {
        "colab": {
          "base_uri": "https://localhost:8080/"
        },
        "id": "5nI0s70H6AHB",
        "outputId": "18be3a0a-e596-4cbe-d6ca-6edc6ffb0867"
      },
      "source": [
        "y_new = y_test[:3]\n",
        "y_new"
      ],
      "execution_count": 48,
      "outputs": [
        {
          "output_type": "execute_result",
          "data": {
            "text/plain": [
              "array([9, 2, 1], dtype=uint8)"
            ]
          },
          "metadata": {
            "tags": []
          },
          "execution_count": 48
        }
      ]
    },
    {
      "cell_type": "code",
      "metadata": {
        "id": "cmeUjohz6azs"
      },
      "source": [
        ""
      ],
      "execution_count": null,
      "outputs": []
    }
  ]
}